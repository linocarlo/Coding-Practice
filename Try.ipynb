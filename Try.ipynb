{
  "nbformat": 4,
  "nbformat_minor": 0,
  "metadata": {
    "colab": {
      "name": "Try.ipynb",
      "provenance": [],
      "authorship_tag": "ABX9TyPVvaHl7K/ZypRJfNl9DQOA",
      "include_colab_link": true
    },
    "kernelspec": {
      "name": "python3",
      "display_name": "Python 3"
    }
  },
  "cells": [
    {
      "cell_type": "markdown",
      "metadata": {
        "id": "view-in-github",
        "colab_type": "text"
      },
      "source": [
        "<a href=\"https://colab.research.google.com/github/linocarlo/Coding-Practice/blob/main/Try.ipynb\" target=\"_parent\"><img src=\"https://colab.research.google.com/assets/colab-badge.svg\" alt=\"Open In Colab\"/></a>"
      ]
    },
    {
      "cell_type": "code",
      "metadata": {
        "id": "I-i3XJGrCXBE"
      },
      "source": [
        "def grade():\r\n",
        "  name=input(\"Student name: \")\r\n",
        "  course=input(\"Course: \")\r\n",
        "  prelim=float(input(\"Prelim grade: \"))\r\n",
        "  midterm=float(input(\"Midterm grade: \"))\r\n",
        "  finals=float(input(\"Final grade: \"))\r\n",
        "  Semestralgrade=(prelim * .30)+(midterm *.30)+(finals *.40)\r\n",
        "  print(Semestralgrade)\r\n",
        "grade()"
      ],
      "execution_count": null,
      "outputs": []
    }
  ]
}